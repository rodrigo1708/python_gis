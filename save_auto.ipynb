{
 "cells": [
  {
   "cell_type": "markdown",
   "id": "0d040055-1dad-4448-9eab-ad67df0d1df7",
   "metadata": {},
   "source": [
    "### Selecionando, filtrando e salvando shapes"
   ]
  },
  {
   "cell_type": "code",
   "execution_count": 1,
   "id": "4c1d3d05-aa52-45f7-a675-c70670ab62f5",
   "metadata": {},
   "outputs": [],
   "source": [
    "import numpy as np\n",
    "import pandas as pd\n",
    "import geopandas as gpd\n",
    "import matplotlib\n",
    "import matplotlib.pyplot as plt\n",
    "import os"
   ]
  },
  {
   "cell_type": "code",
   "execution_count": 2,
   "id": "d96910e2-8216-48a0-af49-de839392f614",
   "metadata": {
    "tags": []
   },
   "outputs": [],
   "source": [
    "# Função para abrir shapefile\n",
    "def open_shape():\n",
    "    # Lendo e plotando o arquivo com a borda preta\n",
    "    path = input('Digite o caminho para a shapefile desejada: ') + '\\\\'\n",
    "    name = input('Digite o nome da shapefile: ') + '.shp'\n",
    "    shp = gpd.read_file(path + name)\n",
    "    \n",
    "    return [shp, shp.plot(edgecolor = 'lightgray')]\n",
    "\n",
    "# Função para filtrar a shape e salvar/plotar\n",
    "def sel_save(shape):\n",
    "    # Informando as colunas e valores do arquivo\n",
    "    print(f'As colunas do arquivo selecionado são:\\n {shape}')\n",
    "    esc = input('Digite a coluna a ser filtrada: ')\n",
    "    # Selecionando e criando uma nova coluna para o filtro escolhido pelo usuário\n",
    "    shape['esc'] = shape[esc]\n",
    "    # Transformando os valores da coluna em lista\n",
    "    filtro = shape.esc.values\n",
    "    # Estrutura de repetição para plotar os valores selecionados pelo usuário\n",
    "    while True:\n",
    "        plus = input('Deseja escolher algum valor para filtrar? [S/N]').strip().upper()[0]\n",
    "        while 'N' not in plus and 'S' not in plus:\n",
    "            plus = input('Escolha errada! Digite S ou N para escolher algum valor para filtrar: ').strip().upper()[0]\n",
    "        if plus == 'S':\n",
    "            f2 = input('Digite o valor para filtrar: ')\n",
    "            if f2.isnumeric():\n",
    "                f2 = int(f2)\n",
    "            filtro = shape[shape[esc]==f2]\n",
    "            filtro.plot()\n",
    "            break\n",
    "        else:\n",
    "            break   \n",
    "    # Estrutura de repetição para salvar os filtros realizados pelo usuário\n",
    "    while True:\n",
    "        sel = input('Deseja salvar a camada? [S/N]').strip().upper()[0]\n",
    "        while 'N' not in sel and 'S' not in sel:\n",
    "            sel = input('Escolha errada! Digite S ou N para salvar ou não a camada filtrada: ').strip().upper()[0]\n",
    "        if sel == 'N':\n",
    "            break\n",
    "        shp_save = input('Digite o caminho para salvar os arquivos: ')\n",
    "        if sel == 'S' and plus == 'S':\n",
    "            filtro.to_file(shp_save + '\\\\' + str(f2) + '.shp')\n",
    "        elif plus == 'N':\n",
    "            for s in filtro:\n",
    "                salvar = shape[shape[esc]==s]\n",
    "                salvar.to_file(shp_save + '\\\\' + str(s) + '.shp') \n",
    "        break\n",
    "    return\n",
    "\n",
    "# Função de execução do código\n",
    "def run():\n",
    "    arq = open_shape()[0]\n",
    "    save = sel_save(arq)"
   ]
  },
  {
   "cell_type": "code",
   "execution_count": null,
   "id": "c24752a0-0992-4d70-b6f3-1c377e186e12",
   "metadata": {},
   "outputs": [],
   "source": [
    "run()"
   ]
  }
 ],
 "metadata": {
  "kernelspec": {
   "display_name": "Python 3 (ipykernel)",
   "language": "python",
   "name": "python3"
  },
  "language_info": {
   "codemirror_mode": {
    "name": "ipython",
    "version": 3
   },
   "file_extension": ".py",
   "mimetype": "text/x-python",
   "name": "python",
   "nbconvert_exporter": "python",
   "pygments_lexer": "ipython3",
   "version": "3.8.8"
  }
 },
 "nbformat": 4,
 "nbformat_minor": 5
}
