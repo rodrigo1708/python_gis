{
 "cells": [
  {
   "cell_type": "markdown",
   "id": "8914c9c1-c728-4514-b87a-109fbe7facdd",
   "metadata": {},
   "source": [
    "## SCRIPTS EM PYTHON PARA GIS"
   ]
  },
  {
   "cell_type": "code",
   "execution_count": 1,
   "id": "3a1aba18-dc25-4f13-88b2-3c1772e8b769",
   "metadata": {},
   "outputs": [],
   "source": [
    "import numpy as np\n",
    "import pandas as pd\n",
    "import geopandas as gpd\n",
    "import os\n",
    "import matplotlib\n",
    "import matplotlib.pyplot as plt"
   ]
  },
  {
   "cell_type": "code",
   "execution_count": 2,
   "id": "d0a3d2c1-e1fa-4703-9a9a-605823dc464f",
   "metadata": {},
   "outputs": [],
   "source": [
    "path = os.getcwd()"
   ]
  },
  {
   "cell_type": "code",
   "execution_count": 30,
   "id": "2d5e80c3-596c-4e9c-96c4-a241260ac117",
   "metadata": {},
   "outputs": [],
   "source": [
    "# Definindo uma camada máscara\n",
    "def mascara():\n",
    "    mask = 'C:\\\\Users\\\\rodri\\\\Downloads\\\\SHAPE_4313904\\\\AREA_IMOVEL.shp'\n",
    "    shp_mask = gpd.read_file(mask)\n",
    "    shp_mask['geometry'] = shp_mask['geometry'].to_crs(epsg=4674)\n",
    "    return shp_mask"
   ]
  },
  {
   "cell_type": "code",
   "execution_count": 14,
   "id": "a24dfbe0-4d20-4571-b322-b37fab4755ce",
   "metadata": {
    "tags": []
   },
   "outputs": [
    {
     "data": {
      "text/plain": [
       "<Geographic 2D CRS: EPSG:4674>\n",
       "Name: SIRGAS 2000\n",
       "Axis Info [ellipsoidal]:\n",
       "- Lat[north]: Geodetic latitude (degree)\n",
       "- Lon[east]: Geodetic longitude (degree)\n",
       "Area of Use:\n",
       "- name: Latin America - Central America and South America - onshore and offshore. Brazil - onshore and offshore.\n",
       "- bounds: (-122.19, -59.87, -25.28, 32.72)\n",
       "Datum: Sistema de Referencia Geocentrico para las AmericaS 2000\n",
       "- Ellipsoid: GRS 1980\n",
       "- Prime Meridian: Greenwich"
      ]
     },
     "execution_count": 14,
     "metadata": {},
     "output_type": "execute_result"
    }
   ],
   "source": [
    "mascara().crs"
   ]
  },
  {
   "cell_type": "code",
   "execution_count": 31,
   "id": "0751900e-a306-467e-8140-cc6717cc0183",
   "metadata": {},
   "outputs": [],
   "source": [
    "# Função para leitura das shapes em diretório especificado\n",
    "def ler_shp():\n",
    "    shapefiles = []\n",
    "    caminho = 'C:\\\\Users\\\\rodri\\\\Downloads\\\\SHAPE_4313904'\n",
    "    for arquivo in os.listdir(caminho):\n",
    "        if arquivo.endswith(\".shp\"):\n",
    "            caminho_arquivo = os.path.join(caminho, arquivo)\n",
    "            shapefiles.append(caminho_arquivo)\n",
    "    return shapefiles"
   ]
  },
  {
   "cell_type": "code",
   "execution_count": null,
   "id": "7105d1c2-2bb0-47e8-b492-ff975b8552ba",
   "metadata": {},
   "outputs": [],
   "source": [
    "ler_shp()"
   ]
  },
  {
   "cell_type": "code",
   "execution_count": 32,
   "id": "04e323e1-007f-4140-a85b-e0b7d7d4c9e4",
   "metadata": {},
   "outputs": [],
   "source": [
    "# Lendo shapefiles do diretório com geopandas\n",
    "def shp_plot():\n",
    "    gdf_shapes = []\n",
    "    for path in ler_shp():\n",
    "        gdf = gpd.read_file(path)\n",
    "        gdf_shapes.append(gdf)\n",
    "    return gdf_shapes"
   ]
  },
  {
   "cell_type": "code",
   "execution_count": 33,
   "id": "95bb8f20-064c-4ab4-ab47-0ebb551c5c71",
   "metadata": {},
   "outputs": [],
   "source": [
    "# Compatibilizando o Sistema de Coordenadas\n",
    "def crs(): \n",
    "    shapes_corrig = []\n",
    "    for shp in shp_plot():\n",
    "        shp['geometry'] = shp['geometry'].to_crs(epsg=4674)\n",
    "        shapes_corrig.append(shp)\n",
    "    return shapes_corrig"
   ]
  },
  {
   "cell_type": "code",
   "execution_count": 38,
   "id": "a5621471-f5e3-4a01-8d7a-90a4fd279924",
   "metadata": {
    "tags": []
   },
   "outputs": [],
   "source": [
    "# Função para realizar join de shapes\n",
    "def join():\n",
    "    join_shp = []\n",
    "    for shapes in crs():\n",
    "        join = gpd.sjoin(shapes, mascara(), how='inner')\n",
    "        join_shp.append(join)\n",
    "    return join_shp"
   ]
  },
  {
   "cell_type": "code",
   "execution_count": 35,
   "id": "bdcc4314-4389-4308-be24-a69961e3d681",
   "metadata": {},
   "outputs": [],
   "source": [
    "# Função para realizar recorte de shape\n",
    "def recorte():\n",
    "    recorte_shp = []\n",
    "    for shapes in crs():\n",
    "        recorte = gpd.overlay(shapes, mascara(), how='intersection')\n",
    "        recorte_shp.append(recorte)\n",
    "    return recorte_shp"
   ]
  },
  {
   "cell_type": "code",
   "execution_count": null,
   "id": "b85df208-3b68-4bdc-86ca-2cac1bee8d7b",
   "metadata": {},
   "outputs": [],
   "source": [
    "# Leitura e separação dos nomes de arquivos shape\n",
    "arq = []\n",
    "for div in ler_shp():\n",
    "    sep = div.split('\\\\')\n",
    "    arq.append(sep[-1])\n",
    "arq"
   ]
  },
  {
   "cell_type": "code",
   "execution_count": null,
   "id": "f3cd637b-28e3-4a7a-89b3-de82514687d8",
   "metadata": {},
   "outputs": [],
   "source": [
    "# Exportando shapefiles recortadas com nome do arquivo definido\n",
    "for i, rec in enumerate(recorte()):\n",
    "    rec.to_file('C:\\\\Users\\\\rodri\\\\Downloads\\\\RS\\\\OSM_PANAMBI\\\\' \n",
    "                + 'panambi_'+ arq[i])"
   ]
  },
  {
   "cell_type": "code",
   "execution_count": null,
   "id": "91d3ce7e-e5c8-4e2e-809a-e14224a373dc",
   "metadata": {},
   "outputs": [],
   "source": [
    "# Exportando join de shapefiles com nome de arquivo definido\n",
    "for i, j in enumerate(join()):\n",
    "    j.to_file('C:\\\\Users\\\\rodri\\\\Downloads\\\\RS\\\\panambi\\\\CAR\\\\CAR_' \n",
    "                + 'panambi_'+ arq[i])"
   ]
  }
 ],
 "metadata": {
  "kernelspec": {
   "display_name": "Python 3 (ipykernel)",
   "language": "python",
   "name": "python3"
  },
  "language_info": {
   "codemirror_mode": {
    "name": "ipython",
    "version": 3
   },
   "file_extension": ".py",
   "mimetype": "text/x-python",
   "name": "python",
   "nbconvert_exporter": "python",
   "pygments_lexer": "ipython3",
   "version": "3.8.8"
  }
 },
 "nbformat": 4,
 "nbformat_minor": 5
}
