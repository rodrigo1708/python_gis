{
 "cells": [
  {
   "cell_type": "markdown",
   "id": "98a3e259-6c0b-4a46-8dd0-9ad6936df9e7",
   "metadata": {},
   "source": [
    "##### RECORTANDO SHAPES DE ACORDO COM O ESTADO SELECIONADO NA SHAPE DE MUNICÍPIOS"
   ]
  },
  {
   "cell_type": "code",
   "execution_count": 1,
   "id": "df66aa59-6989-4db1-92ab-f8b299478277",
   "metadata": {
    "tags": []
   },
   "outputs": [],
   "source": [
    "import os\n",
    "import matplotlib\n",
    "import matplotlib.pyplot as plt\n",
    "import geopandas as gpd\n",
    "import numpy as np"
   ]
  },
  {
   "cell_type": "code",
   "execution_count": null,
   "id": "7166e9d0-6cde-4eef-803a-06e0cb93ae1a",
   "metadata": {},
   "outputs": [],
   "source": [
    "# Script para automatizar recorte da shape de municípios de acordo com o estado escolhido\n",
    "# Função para ler arquivos shapefile\n",
    "def arquivos():\n",
    "    arq = []\n",
    "    while True:\n",
    "        arq.append(\n",
    "            input(\"Digite o caminho para os shapefiles a serem recortardos: \") + '\\\\' +\n",
    "            input(\"Digite o nome do shapefile: \") + '.shp'\n",
    "            )\n",
    "        esc = input('Deseja incluir outro arquivo? [S/N] ').strip().upper()[0]\n",
    "        while 'N' not in esc and 'S' not in esc:\n",
    "            esc = input('Escolha inválida! Digite S para \"Sim\" ou N para \"Não\": ').strip().upper()[0]\n",
    "        if esc == 'N':\n",
    "            break\n",
    "    return arq\n",
    "\n",
    "# Função para abrir shapefiles com geopandas\n",
    "def open_shape():\n",
    "    \n",
    "    return [gpd.read_file(i) for i in arquivos()]\n",
    "\n",
    "# Função para filtrar o estado selecionado\n",
    "def filtro(estado, mun):\n",
    "    filtro_municipio = mun[mun['uf'] == estado]\n",
    "    return [filtro_municipio, estado]\n",
    "\n",
    "# Função para recortar a shape incluída dentro do estado selecionado\n",
    "def overlay():\n",
    "    recorte = []\n",
    "    for shapes in open_shape():\n",
    "        recorte.append(gpd.overlay(shapes, filtro(estado, mun)[0], how='intersection', keep_geom_type=False))\n",
    "    return recorte\n",
    "\n",
    "# Função para plotar e salvar os dados recortados sobrepostos ao estado selecionado\n",
    "def plot_save():\n",
    "    shp = overlay()\n",
    "    # Configurando o layout das áreas recortadas\n",
    "    for s in shp:\n",
    "        fig, ax = plt.subplots(1,1,figsize=(10,10))\n",
    "        ax.set_title(f'Áreas recortadas')\n",
    "        base_mun = filtro(estado, mun)[0].plot(ax=ax, color='silver', linewidth=0.5, edgecolor='black')\n",
    "        s.plot(ax=base_mun, color='blue', markersize=10, linestyle='dashed', linewidth=1, marker='^')\n",
    "    while True:\n",
    "        esc = int(input(\n",
    "            'Digite 0 para salvar as camadas recortadas e plotar os mapas ou 1 para apenas plotar os mapas: '))\n",
    "        while esc != 1 and esc != 0:\n",
    "            esc = int(input(\n",
    "                'Escolha errada! Digite 0 para salvar as camadas e plotar os mapas ou 1 para apenas plotar os mapas: '))\n",
    "        if esc == 1:\n",
    "            break\n",
    "        else:\n",
    "            path = input('Digite o camminho onde os arquivos serão salvos: ') + '\\\\'\n",
    "            save = input('Digite o nome do 1º arquivo: ') + '.shp'\n",
    "            filtro(estado, mun)[0].to_file(path + save)\n",
    "        for i, r in enumerate(shp):\n",
    "            r.to_file(path + 'recorte' + str(i+1) + '.shp')\n",
    "        break\n",
    "    return\n",
    "\n",
    "# Função para chamar e executar as outras funções e exibir o shape de resultado\n",
    "def run():\n",
    "    \n",
    "    return plot_save()"
   ]
  },
  {
   "cell_type": "code",
   "execution_count": null,
   "id": "d2763de5-5bc5-419b-8f30-36abe6c67dcb",
   "metadata": {},
   "outputs": [],
   "source": [
    "mun = gpd.read_file(input('Digite o caminho para o arquivo shape dos municípios: ')\n",
    "                   + '\\\\' + input('Digite o nome do arquivo shape dos municípios: ') + '.shp')\n",
    "estado = input(\"Digite a UF desejada: \").upper()\n",
    "run()"
   ]
  }
 ],
 "metadata": {
  "kernelspec": {
   "display_name": "Python 3 (ipykernel)",
   "language": "python",
   "name": "python3"
  },
  "language_info": {
   "codemirror_mode": {
    "name": "ipython",
    "version": 3
   },
   "file_extension": ".py",
   "mimetype": "text/x-python",
   "name": "python",
   "nbconvert_exporter": "python",
   "pygments_lexer": "ipython3",
   "version": "3.8.8"
  }
 },
 "nbformat": 4,
 "nbformat_minor": 5
}
