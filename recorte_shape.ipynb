{
 "cells": [
  {
   "cell_type": "markdown",
   "id": "98a3e259-6c0b-4a46-8dd0-9ad6936df9e7",
   "metadata": {},
   "source": [
    "### RECORTANDO SHAPES"
   ]
  },
  {
   "cell_type": "code",
   "execution_count": 4,
   "id": "df66aa59-6989-4db1-92ab-f8b299478277",
   "metadata": {},
   "outputs": [],
   "source": [
    "import os\n",
    "import matplotlib\n",
    "import matplotlib.pyplot as plt\n",
    "import geopandas as gpd\n",
    "import numpy as np"
   ]
  },
  {
   "cell_type": "code",
   "execution_count": 12,
   "id": "65ff519c-2b18-47bc-9e94-5f51e1c64ffc",
   "metadata": {},
   "outputs": [],
   "source": [
    "#Script para automatizar recorte da shape de municípios de acordo com o estado escolhido\n",
    "#Função para ler arquivos shapefile\n",
    "def arquivos():\n",
    "    arq = []\n",
    "    while True:\n",
    "        arq.append(input(\"Digite o caminho para os shapefiles a serem recortados: \")\n",
    "                  + '\\\\' + input(\"Digite o nome do shapefile: \") + '.shp')\n",
    "        esc = input('Deseja incluir outro arquivo? [S/N] ').strip().upper()[0]\n",
    "        while 'N' not in esc and 'S' not in esc:\n",
    "            esc = input('Escolha inválida! Digite S para \"Sim\" ou N para \"Não\": ').strip().upper()[0]\n",
    "        if esc == 'N':\n",
    "            break\n",
    "    return arq\n",
    "\n",
    "#Função para abrir shapefiles com geopandas\n",
    "def open_shape():\n",
    "    \n",
    "    return [gpd.read_file(i) for i in arquivos()]\n",
    "\n",
    "#Função para filtrar o estado selecionado\n",
    "def filtro(estado, mun):\n",
    "    filtro_municipio = mun[mun['uf'] == estado]\n",
    "    return filtro_municipio\n",
    "\n",
    "#Função para recortar a shape incluída dentro do estado selecionado\n",
    "def overlay():\n",
    "    recorte = []\n",
    "    for shapes in open_shape():\n",
    "        recorte.append(gpd.overlay(shapes, filtro(estado, mun), how='intersection', keep_geom_type=False))\n",
    "    return recorte\n",
    "\n",
    "# def plot():\n",
    "#     fig, ax = plt.subplots(1,1, figsize=(15,15))\n",
    "\n",
    "#Função para chamar e executar as outras funções e exibir o shape de resultado\n",
    "def run():\n",
    "    for r in overlay():\n",
    "        r.plot()\n",
    "    return filtro(estado, mun).plot()"
   ]
  },
  {
   "cell_type": "code",
   "execution_count": null,
   "id": "990afc93-5790-4083-bf2d-af3238dd2e2d",
   "metadata": {},
   "outputs": [],
   "source": [
    "mun = gpd.read_file(input('Digite o caminho para o arquivo shape dos municípios: ')\n",
    "                   + '\\\\' + input('Digite o nome do arquivo shape dos municípios: ') + '.shp')\n",
    "estado = input(\"Digite a UF desejada: \").upper()\n",
    "run()"
   ]
  }
 ],
 "metadata": {
  "kernelspec": {
   "display_name": "Python 3 (ipykernel)",
   "language": "python",
   "name": "python3"
  },
  "language_info": {
   "codemirror_mode": {
    "name": "ipython",
    "version": 3
   },
   "file_extension": ".py",
   "mimetype": "text/x-python",
   "name": "python",
   "nbconvert_exporter": "python",
   "pygments_lexer": "ipython3",
   "version": "3.8.8"
  }
 },
 "nbformat": 4,
 "nbformat_minor": 5
}
